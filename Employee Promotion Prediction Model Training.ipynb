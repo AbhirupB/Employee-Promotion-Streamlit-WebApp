{
 "cells": [
  {
   "cell_type": "markdown",
   "id": "0f9f3874-3281-404b-bc51-df318aa440c2",
   "metadata": {
    "tags": []
   },
   "source": [
    "# Employee Promotion Prediction Model Training"
   ]
  },
  {
   "cell_type": "code",
   "execution_count": 51,
   "id": "c1b8969f-56ba-44ff-a59c-12b0bc825fbd",
   "metadata": {},
   "outputs": [],
   "source": [
    "import numpy as np\n",
    "import pandas as pd\n",
    "from sklearn import metrics\n",
    "from sklearn.model_selection import train_test_split\n",
    "from sklearn.metrics import recall_score\n",
    "from sklearn.metrics import classification_report\n",
    "from sklearn.linear_model import LogisticRegression\n",
    "from sklearn.metrics import confusion_matrix\n",
    "from sklearn.tree import DecisionTreeClassifier\n",
    "from sklearn.ensemble import RandomForestClassifier\n",
    "from xgboost import XGBClassifier\n",
    "from sklearn.ensemble import AdaBoostClassifier\n",
    "from imblearn.combine import SMOTEENN\n",
    "\n",
    "import warnings\n",
    "warnings.filterwarnings('ignore')\n",
    "\n",
    "from sklearn.preprocessing import StandardScaler, MinMaxScaler"
   ]
  },
  {
   "cell_type": "code",
   "execution_count": 52,
   "id": "2b275923-0af8-42e6-b33d-56f6488c58c4",
   "metadata": {},
   "outputs": [],
   "source": [
    "df_emp=pd.read_csv('data/train_test_merged_data_cleaned.csv')"
   ]
  },
  {
   "cell_type": "code",
   "execution_count": 53,
   "id": "bfa4e9c3-6bf9-4868-aaa7-9bd46b823b0c",
   "metadata": {},
   "outputs": [
    {
     "data": {
      "text/html": [
       "<div>\n",
       "<style scoped>\n",
       "    .dataframe tbody tr th:only-of-type {\n",
       "        vertical-align: middle;\n",
       "    }\n",
       "\n",
       "    .dataframe tbody tr th {\n",
       "        vertical-align: top;\n",
       "    }\n",
       "\n",
       "    .dataframe thead th {\n",
       "        text-align: right;\n",
       "    }\n",
       "</style>\n",
       "<table border=\"1\" class=\"dataframe\">\n",
       "  <thead>\n",
       "    <tr style=\"text-align: right;\">\n",
       "      <th></th>\n",
       "      <th>Unnamed: 0</th>\n",
       "      <th>department</th>\n",
       "      <th>education</th>\n",
       "      <th>no_of_trainings</th>\n",
       "      <th>age</th>\n",
       "      <th>previous_year_rating</th>\n",
       "      <th>length_of_service</th>\n",
       "      <th>awards_won?</th>\n",
       "      <th>avg_training_score</th>\n",
       "      <th>is_promoted</th>\n",
       "      <th>gender_m</th>\n",
       "    </tr>\n",
       "  </thead>\n",
       "  <tbody>\n",
       "    <tr>\n",
       "      <th>0</th>\n",
       "      <td>0</td>\n",
       "      <td>7</td>\n",
       "      <td>2</td>\n",
       "      <td>1</td>\n",
       "      <td>35</td>\n",
       "      <td>5.0</td>\n",
       "      <td>8</td>\n",
       "      <td>0</td>\n",
       "      <td>49</td>\n",
       "      <td>0.0</td>\n",
       "      <td>0</td>\n",
       "    </tr>\n",
       "    <tr>\n",
       "      <th>1</th>\n",
       "      <td>1</td>\n",
       "      <td>4</td>\n",
       "      <td>0</td>\n",
       "      <td>1</td>\n",
       "      <td>30</td>\n",
       "      <td>5.0</td>\n",
       "      <td>4</td>\n",
       "      <td>0</td>\n",
       "      <td>60</td>\n",
       "      <td>0.0</td>\n",
       "      <td>1</td>\n",
       "    </tr>\n",
       "    <tr>\n",
       "      <th>2</th>\n",
       "      <td>2</td>\n",
       "      <td>7</td>\n",
       "      <td>0</td>\n",
       "      <td>1</td>\n",
       "      <td>34</td>\n",
       "      <td>3.0</td>\n",
       "      <td>7</td>\n",
       "      <td>0</td>\n",
       "      <td>50</td>\n",
       "      <td>0.0</td>\n",
       "      <td>1</td>\n",
       "    </tr>\n",
       "    <tr>\n",
       "      <th>3</th>\n",
       "      <td>3</td>\n",
       "      <td>7</td>\n",
       "      <td>0</td>\n",
       "      <td>2</td>\n",
       "      <td>39</td>\n",
       "      <td>1.0</td>\n",
       "      <td>10</td>\n",
       "      <td>0</td>\n",
       "      <td>50</td>\n",
       "      <td>0.0</td>\n",
       "      <td>1</td>\n",
       "    </tr>\n",
       "    <tr>\n",
       "      <th>4</th>\n",
       "      <td>4</td>\n",
       "      <td>8</td>\n",
       "      <td>0</td>\n",
       "      <td>1</td>\n",
       "      <td>45</td>\n",
       "      <td>3.0</td>\n",
       "      <td>2</td>\n",
       "      <td>0</td>\n",
       "      <td>73</td>\n",
       "      <td>0.0</td>\n",
       "      <td>1</td>\n",
       "    </tr>\n",
       "  </tbody>\n",
       "</table>\n",
       "</div>"
      ],
      "text/plain": [
       "   Unnamed: 0  department  education  no_of_trainings  age  \\\n",
       "0           0           7          2                1   35   \n",
       "1           1           4          0                1   30   \n",
       "2           2           7          0                1   34   \n",
       "3           3           7          0                2   39   \n",
       "4           4           8          0                1   45   \n",
       "\n",
       "   previous_year_rating  length_of_service  awards_won?  avg_training_score  \\\n",
       "0                   5.0                  8            0                  49   \n",
       "1                   5.0                  4            0                  60   \n",
       "2                   3.0                  7            0                  50   \n",
       "3                   1.0                 10            0                  50   \n",
       "4                   3.0                  2            0                  73   \n",
       "\n",
       "   is_promoted  gender_m  \n",
       "0          0.0         0  \n",
       "1          0.0         1  \n",
       "2          0.0         1  \n",
       "3          0.0         1  \n",
       "4          0.0         1  "
      ]
     },
     "execution_count": 53,
     "metadata": {},
     "output_type": "execute_result"
    }
   ],
   "source": [
    "df_emp.head()"
   ]
  },
  {
   "cell_type": "code",
   "execution_count": 54,
   "id": "f1439261-735d-4f2e-b8f3-57317429f897",
   "metadata": {},
   "outputs": [],
   "source": [
    "df_emp=df_emp.drop('Unnamed: 0', axis=1)"
   ]
  },
  {
   "cell_type": "code",
   "execution_count": 55,
   "id": "8eeff7fe-31a6-4c6a-bda5-0066608222ba",
   "metadata": {},
   "outputs": [
    {
     "data": {
      "text/html": [
       "<div>\n",
       "<style scoped>\n",
       "    .dataframe tbody tr th:only-of-type {\n",
       "        vertical-align: middle;\n",
       "    }\n",
       "\n",
       "    .dataframe tbody tr th {\n",
       "        vertical-align: top;\n",
       "    }\n",
       "\n",
       "    .dataframe thead th {\n",
       "        text-align: right;\n",
       "    }\n",
       "</style>\n",
       "<table border=\"1\" class=\"dataframe\">\n",
       "  <thead>\n",
       "    <tr style=\"text-align: right;\">\n",
       "      <th></th>\n",
       "      <th>department</th>\n",
       "      <th>education</th>\n",
       "      <th>no_of_trainings</th>\n",
       "      <th>age</th>\n",
       "      <th>previous_year_rating</th>\n",
       "      <th>length_of_service</th>\n",
       "      <th>awards_won?</th>\n",
       "      <th>avg_training_score</th>\n",
       "      <th>is_promoted</th>\n",
       "      <th>gender_m</th>\n",
       "    </tr>\n",
       "  </thead>\n",
       "  <tbody>\n",
       "    <tr>\n",
       "      <th>0</th>\n",
       "      <td>7</td>\n",
       "      <td>2</td>\n",
       "      <td>1</td>\n",
       "      <td>35</td>\n",
       "      <td>5.0</td>\n",
       "      <td>8</td>\n",
       "      <td>0</td>\n",
       "      <td>49</td>\n",
       "      <td>0.0</td>\n",
       "      <td>0</td>\n",
       "    </tr>\n",
       "    <tr>\n",
       "      <th>1</th>\n",
       "      <td>4</td>\n",
       "      <td>0</td>\n",
       "      <td>1</td>\n",
       "      <td>30</td>\n",
       "      <td>5.0</td>\n",
       "      <td>4</td>\n",
       "      <td>0</td>\n",
       "      <td>60</td>\n",
       "      <td>0.0</td>\n",
       "      <td>1</td>\n",
       "    </tr>\n",
       "    <tr>\n",
       "      <th>2</th>\n",
       "      <td>7</td>\n",
       "      <td>0</td>\n",
       "      <td>1</td>\n",
       "      <td>34</td>\n",
       "      <td>3.0</td>\n",
       "      <td>7</td>\n",
       "      <td>0</td>\n",
       "      <td>50</td>\n",
       "      <td>0.0</td>\n",
       "      <td>1</td>\n",
       "    </tr>\n",
       "    <tr>\n",
       "      <th>3</th>\n",
       "      <td>7</td>\n",
       "      <td>0</td>\n",
       "      <td>2</td>\n",
       "      <td>39</td>\n",
       "      <td>1.0</td>\n",
       "      <td>10</td>\n",
       "      <td>0</td>\n",
       "      <td>50</td>\n",
       "      <td>0.0</td>\n",
       "      <td>1</td>\n",
       "    </tr>\n",
       "    <tr>\n",
       "      <th>4</th>\n",
       "      <td>8</td>\n",
       "      <td>0</td>\n",
       "      <td>1</td>\n",
       "      <td>45</td>\n",
       "      <td>3.0</td>\n",
       "      <td>2</td>\n",
       "      <td>0</td>\n",
       "      <td>73</td>\n",
       "      <td>0.0</td>\n",
       "      <td>1</td>\n",
       "    </tr>\n",
       "  </tbody>\n",
       "</table>\n",
       "</div>"
      ],
      "text/plain": [
       "   department  education  no_of_trainings  age  previous_year_rating  \\\n",
       "0           7          2                1   35                   5.0   \n",
       "1           4          0                1   30                   5.0   \n",
       "2           7          0                1   34                   3.0   \n",
       "3           7          0                2   39                   1.0   \n",
       "4           8          0                1   45                   3.0   \n",
       "\n",
       "   length_of_service  awards_won?  avg_training_score  is_promoted  gender_m  \n",
       "0                  8            0                  49          0.0         0  \n",
       "1                  4            0                  60          0.0         1  \n",
       "2                  7            0                  50          0.0         1  \n",
       "3                 10            0                  50          0.0         1  \n",
       "4                  2            0                  73          0.0         1  "
      ]
     },
     "execution_count": 55,
     "metadata": {},
     "output_type": "execute_result"
    }
   ],
   "source": [
    "df_emp.head()"
   ]
  },
  {
   "cell_type": "markdown",
   "id": "799d677e-29c2-425e-873e-5da265859691",
   "metadata": {},
   "source": [
    "### Split the merged dataset into the original Train and Test data"
   ]
  },
  {
   "cell_type": "code",
   "execution_count": 56,
   "id": "7d71bd8d-bcbc-4327-bae2-8a89041472c3",
   "metadata": {},
   "outputs": [],
   "source": [
    "# Select the original train dataset\n",
    "train_data_final = df_emp.iloc[:54808, :]\n",
    "\n",
    "# Select the original test dataset\n",
    "test_data_final = df_emp.iloc[54808:, :]\n"
   ]
  },
  {
   "cell_type": "code",
   "execution_count": 57,
   "id": "179dafa7-ea33-4a99-ba83-6ef93a7c6047",
   "metadata": {},
   "outputs": [
    {
     "data": {
      "text/plain": [
       "(54808, 10)"
      ]
     },
     "execution_count": 57,
     "metadata": {},
     "output_type": "execute_result"
    }
   ],
   "source": [
    "train_data_final.shape"
   ]
  },
  {
   "cell_type": "code",
   "execution_count": 58,
   "id": "052c3d81-bd2d-4d52-b5cd-0bb4105678ce",
   "metadata": {},
   "outputs": [
    {
     "data": {
      "text/html": [
       "<div>\n",
       "<style scoped>\n",
       "    .dataframe tbody tr th:only-of-type {\n",
       "        vertical-align: middle;\n",
       "    }\n",
       "\n",
       "    .dataframe tbody tr th {\n",
       "        vertical-align: top;\n",
       "    }\n",
       "\n",
       "    .dataframe thead th {\n",
       "        text-align: right;\n",
       "    }\n",
       "</style>\n",
       "<table border=\"1\" class=\"dataframe\">\n",
       "  <thead>\n",
       "    <tr style=\"text-align: right;\">\n",
       "      <th></th>\n",
       "      <th>department</th>\n",
       "      <th>education</th>\n",
       "      <th>no_of_trainings</th>\n",
       "      <th>age</th>\n",
       "      <th>previous_year_rating</th>\n",
       "      <th>length_of_service</th>\n",
       "      <th>awards_won?</th>\n",
       "      <th>avg_training_score</th>\n",
       "      <th>is_promoted</th>\n",
       "      <th>gender_m</th>\n",
       "    </tr>\n",
       "  </thead>\n",
       "  <tbody>\n",
       "    <tr>\n",
       "      <th>0</th>\n",
       "      <td>7</td>\n",
       "      <td>2</td>\n",
       "      <td>1</td>\n",
       "      <td>35</td>\n",
       "      <td>5.0</td>\n",
       "      <td>8</td>\n",
       "      <td>0</td>\n",
       "      <td>49</td>\n",
       "      <td>0.0</td>\n",
       "      <td>0</td>\n",
       "    </tr>\n",
       "    <tr>\n",
       "      <th>1</th>\n",
       "      <td>4</td>\n",
       "      <td>0</td>\n",
       "      <td>1</td>\n",
       "      <td>30</td>\n",
       "      <td>5.0</td>\n",
       "      <td>4</td>\n",
       "      <td>0</td>\n",
       "      <td>60</td>\n",
       "      <td>0.0</td>\n",
       "      <td>1</td>\n",
       "    </tr>\n",
       "    <tr>\n",
       "      <th>2</th>\n",
       "      <td>7</td>\n",
       "      <td>0</td>\n",
       "      <td>1</td>\n",
       "      <td>34</td>\n",
       "      <td>3.0</td>\n",
       "      <td>7</td>\n",
       "      <td>0</td>\n",
       "      <td>50</td>\n",
       "      <td>0.0</td>\n",
       "      <td>1</td>\n",
       "    </tr>\n",
       "    <tr>\n",
       "      <th>3</th>\n",
       "      <td>7</td>\n",
       "      <td>0</td>\n",
       "      <td>2</td>\n",
       "      <td>39</td>\n",
       "      <td>1.0</td>\n",
       "      <td>10</td>\n",
       "      <td>0</td>\n",
       "      <td>50</td>\n",
       "      <td>0.0</td>\n",
       "      <td>1</td>\n",
       "    </tr>\n",
       "    <tr>\n",
       "      <th>4</th>\n",
       "      <td>8</td>\n",
       "      <td>0</td>\n",
       "      <td>1</td>\n",
       "      <td>45</td>\n",
       "      <td>3.0</td>\n",
       "      <td>2</td>\n",
       "      <td>0</td>\n",
       "      <td>73</td>\n",
       "      <td>0.0</td>\n",
       "      <td>1</td>\n",
       "    </tr>\n",
       "  </tbody>\n",
       "</table>\n",
       "</div>"
      ],
      "text/plain": [
       "   department  education  no_of_trainings  age  previous_year_rating  \\\n",
       "0           7          2                1   35                   5.0   \n",
       "1           4          0                1   30                   5.0   \n",
       "2           7          0                1   34                   3.0   \n",
       "3           7          0                2   39                   1.0   \n",
       "4           8          0                1   45                   3.0   \n",
       "\n",
       "   length_of_service  awards_won?  avg_training_score  is_promoted  gender_m  \n",
       "0                  8            0                  49          0.0         0  \n",
       "1                  4            0                  60          0.0         1  \n",
       "2                  7            0                  50          0.0         1  \n",
       "3                 10            0                  50          0.0         1  \n",
       "4                  2            0                  73          0.0         1  "
      ]
     },
     "execution_count": 58,
     "metadata": {},
     "output_type": "execute_result"
    }
   ],
   "source": [
    "train_data_final.head()"
   ]
  },
  {
   "cell_type": "code",
   "execution_count": 59,
   "id": "ea1f4694-c106-4405-89cd-8a68f987f0af",
   "metadata": {},
   "outputs": [
    {
     "data": {
      "text/plain": [
       "(23490, 10)"
      ]
     },
     "execution_count": 59,
     "metadata": {},
     "output_type": "execute_result"
    }
   ],
   "source": [
    "test_data_final.shape"
   ]
  },
  {
   "cell_type": "code",
   "execution_count": 60,
   "id": "72d25057-1e5e-4273-b34f-67dd761f6020",
   "metadata": {},
   "outputs": [
    {
     "data": {
      "text/html": [
       "<div>\n",
       "<style scoped>\n",
       "    .dataframe tbody tr th:only-of-type {\n",
       "        vertical-align: middle;\n",
       "    }\n",
       "\n",
       "    .dataframe tbody tr th {\n",
       "        vertical-align: top;\n",
       "    }\n",
       "\n",
       "    .dataframe thead th {\n",
       "        text-align: right;\n",
       "    }\n",
       "</style>\n",
       "<table border=\"1\" class=\"dataframe\">\n",
       "  <thead>\n",
       "    <tr style=\"text-align: right;\">\n",
       "      <th></th>\n",
       "      <th>department</th>\n",
       "      <th>education</th>\n",
       "      <th>no_of_trainings</th>\n",
       "      <th>age</th>\n",
       "      <th>previous_year_rating</th>\n",
       "      <th>length_of_service</th>\n",
       "      <th>awards_won?</th>\n",
       "      <th>avg_training_score</th>\n",
       "      <th>is_promoted</th>\n",
       "      <th>gender_m</th>\n",
       "    </tr>\n",
       "  </thead>\n",
       "  <tbody>\n",
       "    <tr>\n",
       "      <th>54808</th>\n",
       "      <td>8</td>\n",
       "      <td>0</td>\n",
       "      <td>1</td>\n",
       "      <td>24</td>\n",
       "      <td>3.0</td>\n",
       "      <td>1</td>\n",
       "      <td>0</td>\n",
       "      <td>77</td>\n",
       "      <td>NaN</td>\n",
       "      <td>1</td>\n",
       "    </tr>\n",
       "    <tr>\n",
       "      <th>54809</th>\n",
       "      <td>2</td>\n",
       "      <td>0</td>\n",
       "      <td>1</td>\n",
       "      <td>31</td>\n",
       "      <td>3.0</td>\n",
       "      <td>5</td>\n",
       "      <td>0</td>\n",
       "      <td>51</td>\n",
       "      <td>NaN</td>\n",
       "      <td>0</td>\n",
       "    </tr>\n",
       "    <tr>\n",
       "      <th>54810</th>\n",
       "      <td>7</td>\n",
       "      <td>0</td>\n",
       "      <td>1</td>\n",
       "      <td>31</td>\n",
       "      <td>1.0</td>\n",
       "      <td>4</td>\n",
       "      <td>0</td>\n",
       "      <td>47</td>\n",
       "      <td>NaN</td>\n",
       "      <td>1</td>\n",
       "    </tr>\n",
       "    <tr>\n",
       "      <th>54811</th>\n",
       "      <td>5</td>\n",
       "      <td>0</td>\n",
       "      <td>3</td>\n",
       "      <td>31</td>\n",
       "      <td>2.0</td>\n",
       "      <td>9</td>\n",
       "      <td>0</td>\n",
       "      <td>65</td>\n",
       "      <td>NaN</td>\n",
       "      <td>0</td>\n",
       "    </tr>\n",
       "    <tr>\n",
       "      <th>54812</th>\n",
       "      <td>1</td>\n",
       "      <td>0</td>\n",
       "      <td>1</td>\n",
       "      <td>30</td>\n",
       "      <td>4.0</td>\n",
       "      <td>7</td>\n",
       "      <td>0</td>\n",
       "      <td>61</td>\n",
       "      <td>NaN</td>\n",
       "      <td>1</td>\n",
       "    </tr>\n",
       "  </tbody>\n",
       "</table>\n",
       "</div>"
      ],
      "text/plain": [
       "       department  education  no_of_trainings  age  previous_year_rating  \\\n",
       "54808           8          0                1   24                   3.0   \n",
       "54809           2          0                1   31                   3.0   \n",
       "54810           7          0                1   31                   1.0   \n",
       "54811           5          0                3   31                   2.0   \n",
       "54812           1          0                1   30                   4.0   \n",
       "\n",
       "       length_of_service  awards_won?  avg_training_score  is_promoted  \\\n",
       "54808                  1            0                  77          NaN   \n",
       "54809                  5            0                  51          NaN   \n",
       "54810                  4            0                  47          NaN   \n",
       "54811                  9            0                  65          NaN   \n",
       "54812                  7            0                  61          NaN   \n",
       "\n",
       "       gender_m  \n",
       "54808         1  \n",
       "54809         0  \n",
       "54810         1  \n",
       "54811         0  \n",
       "54812         1  "
      ]
     },
     "execution_count": 60,
     "metadata": {},
     "output_type": "execute_result"
    }
   ],
   "source": [
    "test_data_final.head()"
   ]
  },
  {
   "cell_type": "markdown",
   "id": "bba0eb27-7469-49d7-b46d-b917815e5a80",
   "metadata": {
    "tags": []
   },
   "source": [
    "### Creating Independent and Dependent variables"
   ]
  },
  {
   "cell_type": "code",
   "execution_count": 61,
   "id": "5bb87d29-ff5a-45e5-a077-a5196539d093",
   "metadata": {},
   "outputs": [
    {
     "data": {
      "text/html": [
       "<div>\n",
       "<style scoped>\n",
       "    .dataframe tbody tr th:only-of-type {\n",
       "        vertical-align: middle;\n",
       "    }\n",
       "\n",
       "    .dataframe tbody tr th {\n",
       "        vertical-align: top;\n",
       "    }\n",
       "\n",
       "    .dataframe thead th {\n",
       "        text-align: right;\n",
       "    }\n",
       "</style>\n",
       "<table border=\"1\" class=\"dataframe\">\n",
       "  <thead>\n",
       "    <tr style=\"text-align: right;\">\n",
       "      <th></th>\n",
       "      <th>department</th>\n",
       "      <th>education</th>\n",
       "      <th>no_of_trainings</th>\n",
       "      <th>age</th>\n",
       "      <th>previous_year_rating</th>\n",
       "      <th>length_of_service</th>\n",
       "      <th>awards_won?</th>\n",
       "      <th>avg_training_score</th>\n",
       "      <th>gender_m</th>\n",
       "    </tr>\n",
       "  </thead>\n",
       "  <tbody>\n",
       "    <tr>\n",
       "      <th>0</th>\n",
       "      <td>7</td>\n",
       "      <td>2</td>\n",
       "      <td>1</td>\n",
       "      <td>35</td>\n",
       "      <td>5.0</td>\n",
       "      <td>8</td>\n",
       "      <td>0</td>\n",
       "      <td>49</td>\n",
       "      <td>0</td>\n",
       "    </tr>\n",
       "    <tr>\n",
       "      <th>1</th>\n",
       "      <td>4</td>\n",
       "      <td>0</td>\n",
       "      <td>1</td>\n",
       "      <td>30</td>\n",
       "      <td>5.0</td>\n",
       "      <td>4</td>\n",
       "      <td>0</td>\n",
       "      <td>60</td>\n",
       "      <td>1</td>\n",
       "    </tr>\n",
       "    <tr>\n",
       "      <th>2</th>\n",
       "      <td>7</td>\n",
       "      <td>0</td>\n",
       "      <td>1</td>\n",
       "      <td>34</td>\n",
       "      <td>3.0</td>\n",
       "      <td>7</td>\n",
       "      <td>0</td>\n",
       "      <td>50</td>\n",
       "      <td>1</td>\n",
       "    </tr>\n",
       "    <tr>\n",
       "      <th>3</th>\n",
       "      <td>7</td>\n",
       "      <td>0</td>\n",
       "      <td>2</td>\n",
       "      <td>39</td>\n",
       "      <td>1.0</td>\n",
       "      <td>10</td>\n",
       "      <td>0</td>\n",
       "      <td>50</td>\n",
       "      <td>1</td>\n",
       "    </tr>\n",
       "    <tr>\n",
       "      <th>4</th>\n",
       "      <td>8</td>\n",
       "      <td>0</td>\n",
       "      <td>1</td>\n",
       "      <td>45</td>\n",
       "      <td>3.0</td>\n",
       "      <td>2</td>\n",
       "      <td>0</td>\n",
       "      <td>73</td>\n",
       "      <td>1</td>\n",
       "    </tr>\n",
       "    <tr>\n",
       "      <th>...</th>\n",
       "      <td>...</td>\n",
       "      <td>...</td>\n",
       "      <td>...</td>\n",
       "      <td>...</td>\n",
       "      <td>...</td>\n",
       "      <td>...</td>\n",
       "      <td>...</td>\n",
       "      <td>...</td>\n",
       "      <td>...</td>\n",
       "    </tr>\n",
       "    <tr>\n",
       "      <th>54803</th>\n",
       "      <td>8</td>\n",
       "      <td>0</td>\n",
       "      <td>1</td>\n",
       "      <td>48</td>\n",
       "      <td>3.0</td>\n",
       "      <td>15</td>\n",
       "      <td>0</td>\n",
       "      <td>78</td>\n",
       "      <td>1</td>\n",
       "    </tr>\n",
       "    <tr>\n",
       "      <th>54804</th>\n",
       "      <td>4</td>\n",
       "      <td>2</td>\n",
       "      <td>1</td>\n",
       "      <td>37</td>\n",
       "      <td>2.0</td>\n",
       "      <td>6</td>\n",
       "      <td>0</td>\n",
       "      <td>56</td>\n",
       "      <td>0</td>\n",
       "    </tr>\n",
       "    <tr>\n",
       "      <th>54805</th>\n",
       "      <td>0</td>\n",
       "      <td>0</td>\n",
       "      <td>1</td>\n",
       "      <td>27</td>\n",
       "      <td>5.0</td>\n",
       "      <td>3</td>\n",
       "      <td>0</td>\n",
       "      <td>79</td>\n",
       "      <td>1</td>\n",
       "    </tr>\n",
       "    <tr>\n",
       "      <th>54806</th>\n",
       "      <td>7</td>\n",
       "      <td>0</td>\n",
       "      <td>1</td>\n",
       "      <td>29</td>\n",
       "      <td>1.0</td>\n",
       "      <td>2</td>\n",
       "      <td>0</td>\n",
       "      <td>45</td>\n",
       "      <td>1</td>\n",
       "    </tr>\n",
       "    <tr>\n",
       "      <th>54807</th>\n",
       "      <td>2</td>\n",
       "      <td>0</td>\n",
       "      <td>1</td>\n",
       "      <td>27</td>\n",
       "      <td>1.0</td>\n",
       "      <td>5</td>\n",
       "      <td>0</td>\n",
       "      <td>49</td>\n",
       "      <td>1</td>\n",
       "    </tr>\n",
       "  </tbody>\n",
       "</table>\n",
       "<p>54808 rows × 9 columns</p>\n",
       "</div>"
      ],
      "text/plain": [
       "       department  education  no_of_trainings  age  previous_year_rating  \\\n",
       "0               7          2                1   35                   5.0   \n",
       "1               4          0                1   30                   5.0   \n",
       "2               7          0                1   34                   3.0   \n",
       "3               7          0                2   39                   1.0   \n",
       "4               8          0                1   45                   3.0   \n",
       "...           ...        ...              ...  ...                   ...   \n",
       "54803           8          0                1   48                   3.0   \n",
       "54804           4          2                1   37                   2.0   \n",
       "54805           0          0                1   27                   5.0   \n",
       "54806           7          0                1   29                   1.0   \n",
       "54807           2          0                1   27                   1.0   \n",
       "\n",
       "       length_of_service  awards_won?  avg_training_score  gender_m  \n",
       "0                      8            0                  49         0  \n",
       "1                      4            0                  60         1  \n",
       "2                      7            0                  50         1  \n",
       "3                     10            0                  50         1  \n",
       "4                      2            0                  73         1  \n",
       "...                  ...          ...                 ...       ...  \n",
       "54803                 15            0                  78         1  \n",
       "54804                  6            0                  56         0  \n",
       "54805                  3            0                  79         1  \n",
       "54806                  2            0                  45         1  \n",
       "54807                  5            0                  49         1  \n",
       "\n",
       "[54808 rows x 9 columns]"
      ]
     },
     "execution_count": 61,
     "metadata": {},
     "output_type": "execute_result"
    }
   ],
   "source": [
    "x=train_data_final.drop('is_promoted', axis=1)\n",
    "x"
   ]
  },
  {
   "cell_type": "code",
   "execution_count": 62,
   "id": "0c645549-7344-4bdf-9699-027ede09022f",
   "metadata": {},
   "outputs": [
    {
     "data": {
      "text/plain": [
       "0        0.0\n",
       "1        0.0\n",
       "2        0.0\n",
       "3        0.0\n",
       "4        0.0\n",
       "        ... \n",
       "54803    0.0\n",
       "54804    0.0\n",
       "54805    0.0\n",
       "54806    0.0\n",
       "54807    0.0\n",
       "Name: is_promoted, Length: 54808, dtype: float64"
      ]
     },
     "execution_count": 62,
     "metadata": {},
     "output_type": "execute_result"
    }
   ],
   "source": [
    "y=train_data_final['is_promoted']\n",
    "y"
   ]
  },
  {
   "cell_type": "markdown",
   "id": "42fca225-ec9b-40ed-ad85-172e64d3833e",
   "metadata": {},
   "source": [
    "### SMOTEEN"
   ]
  },
  {
   "cell_type": "code",
   "execution_count": 63,
   "id": "0ffb0d1e-23d2-4bd1-bb72-ff74734c0e46",
   "metadata": {},
   "outputs": [],
   "source": [
    "sm = SMOTEENN()\n",
    "x_resampled, y_resampled = sm.fit_resample(x, y)"
   ]
  },
  {
   "cell_type": "markdown",
   "id": "22be1e34-d425-49a9-87f9-0a2d2281a21d",
   "metadata": {},
   "source": [
    "### Train-test split"
   ]
  },
  {
   "cell_type": "code",
   "execution_count": 64,
   "id": "c30ba350-a0be-4f24-89d5-a765697ad18a",
   "metadata": {},
   "outputs": [],
   "source": [
    "xr_train, xr_test, yr_train, yr_test = train_test_split(x, y, test_size=0.3, random_state=42)"
   ]
  },
  {
   "cell_type": "markdown",
   "id": "99552182-794d-4952-93d8-07fd72e736fa",
   "metadata": {},
   "source": [
    "### Standardization of Data"
   ]
  },
  {
   "cell_type": "code",
   "execution_count": 65,
   "id": "2b50c290-ba9d-4b52-a8f4-f768adc6ff60",
   "metadata": {},
   "outputs": [],
   "source": [
    "minmax_scaler=MinMaxScaler()"
   ]
  },
  {
   "cell_type": "code",
   "execution_count": 66,
   "id": "49635295-daac-4b35-bc9c-1b43eea8226b",
   "metadata": {},
   "outputs": [],
   "source": [
    "minmax_scaler_fit=minmax_scaler.fit(xr_train)\n",
    "xr_train=minmax_scaler_fit.transform(xr_train)"
   ]
  },
  {
   "cell_type": "code",
   "execution_count": 67,
   "id": "e8216123-e765-4b65-9128-4031f8c5b7ed",
   "metadata": {},
   "outputs": [],
   "source": [
    "xr_train, xr_test, yr_train, yr_test = train_test_split(x, y, test_size=0.3, random_state=42)"
   ]
  },
  {
   "cell_type": "markdown",
   "id": "fe0e4ea5-7b76-47c5-a75a-5030c37d4021",
   "metadata": {},
   "source": [
    "### Model Training"
   ]
  },
  {
   "cell_type": "markdown",
   "id": "4fad2517-bbb2-4890-bbbe-ff8f975b7f19",
   "metadata": {
    "tags": []
   },
   "source": [
    "#### Logistic Regression"
   ]
  },
  {
   "cell_type": "code",
   "execution_count": 68,
   "id": "c7d5f0dc-363a-4c8e-b7e4-0d6e187b3316",
   "metadata": {},
   "outputs": [
    {
     "name": "stdout",
     "output_type": "stream",
     "text": [
      "              precision    recall  f1-score   support\n",
      "\n",
      "         0.0       0.92      1.00      0.96     15110\n",
      "         1.0       0.72      0.08      0.14      1333\n",
      "\n",
      "    accuracy                           0.92     16443\n",
      "   macro avg       0.82      0.54      0.55     16443\n",
      "weighted avg       0.91      0.92      0.89     16443\n",
      "\n",
      "[[15072    38]\n",
      " [ 1233   100]]\n",
      "Accuracy of the model on Testing Sample Data: 0.89\n"
     ]
    }
   ],
   "source": [
    "model_lor = LogisticRegression(C=1,penalty='l2', solver='newton-cg')\n",
    "\n",
    "# Creating the model on Training Data\n",
    "model_lor_fit=model_lor.fit(xr_train,yr_train)\n",
    "model_lor_pred=model_lor_fit.predict(xr_test)\n",
    "\n",
    "# Measuring accuracy on Testing Data\n",
    "print(metrics.classification_report(yr_test, model_lor_pred))\n",
    "print(metrics.confusion_matrix(yr_test, model_lor_pred))\n",
    "\n",
    "# Printing the Overall Accuracy of the model\n",
    "F1_Score=metrics.f1_score(yr_test, model_lor_pred, average='weighted')\n",
    "print('Accuracy of the model on Testing Sample Data:', round(F1_Score,2))\n"
   ]
  },
  {
   "cell_type": "markdown",
   "id": "7d6ac05d-5fd4-4182-af35-2e09ee12f5fe",
   "metadata": {},
   "source": [
    "#### Decision Tree Classifier"
   ]
  },
  {
   "cell_type": "code",
   "execution_count": 69,
   "id": "6c402aaf-0ce0-4433-9d2d-b4a5525301a9",
   "metadata": {},
   "outputs": [
    {
     "name": "stdout",
     "output_type": "stream",
     "text": [
      "              precision    recall  f1-score   support\n",
      "\n",
      "         0.0       0.93      1.00      0.96     15110\n",
      "         1.0       0.89      0.14      0.23      1333\n",
      "\n",
      "    accuracy                           0.93     16443\n",
      "   macro avg       0.91      0.57      0.60     16443\n",
      "weighted avg       0.93      0.93      0.90     16443\n",
      "\n",
      "[[15088    22]\n",
      " [ 1153   180]]\n",
      "Accuracy of the model on Testing Sample Data: 0.9\n"
     ]
    }
   ],
   "source": [
    "model_dt = DecisionTreeClassifier(criterion = \"gini\",random_state = 100,max_depth=6, min_samples_leaf=8)\n",
    "\n",
    "# Creating the model on Training Data\n",
    "model_dt_fit=model_dt.fit(xr_train,yr_train)\n",
    "model_dt_pred=model_dt_fit.predict(xr_test)\n",
    "\n",
    "# Measuring accuracy on Testing Data\n",
    "print(metrics.classification_report(yr_test, model_dt_pred))\n",
    "print(metrics.confusion_matrix(yr_test, model_dt_pred))\n",
    "\n",
    "# Printing the Overall Accuracy of the model\n",
    "F1_Score=metrics.f1_score(yr_test, model_dt_pred, average='weighted')\n",
    "print('Accuracy of the model on Testing Sample Data:', round(F1_Score,2))"
   ]
  },
  {
   "cell_type": "markdown",
   "id": "99cf3c66-1f91-4e82-a208-b43b684c4150",
   "metadata": {},
   "source": [
    "#### Random Forest Classifier"
   ]
  },
  {
   "cell_type": "code",
   "execution_count": 70,
   "id": "6e950fa1-e84b-447b-a540-13a989692d90",
   "metadata": {},
   "outputs": [
    {
     "name": "stdout",
     "output_type": "stream",
     "text": [
      "              precision    recall  f1-score   support\n",
      "\n",
      "         0.0       0.93      1.00      0.96     15110\n",
      "         1.0       0.91      0.17      0.29      1333\n",
      "\n",
      "    accuracy                           0.93     16443\n",
      "   macro avg       0.92      0.59      0.63     16443\n",
      "weighted avg       0.93      0.93      0.91     16443\n",
      "\n",
      "[[15087    23]\n",
      " [ 1100   233]]\n",
      "Accuracy of the model on Testing Sample Data: 0.91\n"
     ]
    }
   ],
   "source": [
    "model_rf = RandomForestClassifier(max_depth=10, n_estimators=100,criterion='entropy')\n",
    "\n",
    "# Creating the model on Training Data\n",
    "model_rf_fit=model_rf.fit(xr_train,yr_train)\n",
    "model_rf_pred=model_rf_fit.predict(xr_test)\n",
    "\n",
    "# Measuring accuracy on Testing Data\n",
    "print(metrics.classification_report(yr_test, model_rf_pred))\n",
    "print(metrics.confusion_matrix(yr_test, model_rf_pred))\n",
    "\n",
    "# Printing the Overall Accuracy of the model\n",
    "F1_Score=metrics.f1_score(yr_test, model_rf_pred, average='weighted')\n",
    "print('Accuracy of the model on Testing Sample Data:', round(F1_Score,2))"
   ]
  },
  {
   "cell_type": "markdown",
   "id": "416f11dc-51cb-4463-aca1-e029e550c015",
   "metadata": {},
   "source": [
    "#### AdaBoost Classifier"
   ]
  },
  {
   "cell_type": "code",
   "execution_count": 71,
   "id": "d4ba0e8e-58d5-4421-9a53-7a43f55b7e34",
   "metadata": {},
   "outputs": [
    {
     "name": "stdout",
     "output_type": "stream",
     "text": [
      "              precision    recall  f1-score   support\n",
      "\n",
      "         0.0       0.93      1.00      0.97     15110\n",
      "         1.0       0.93      0.20      0.33      1333\n",
      "\n",
      "    accuracy                           0.93     16443\n",
      "   macro avg       0.93      0.60      0.65     16443\n",
      "weighted avg       0.93      0.93      0.91     16443\n",
      "\n",
      "[[15091    19]\n",
      " [ 1066   267]]\n",
      "Accuracy of the model on Testing Sample Data: 0.91\n"
     ]
    }
   ],
   "source": [
    "dt=DecisionTreeClassifier(max_depth=4)\n",
    "model_ada = AdaBoostClassifier(n_estimators=200, estimator=dt ,learning_rate=0.01)\n",
    "\n",
    "# Creating the model on Training Data\n",
    "model_ada_fit=model_ada.fit(xr_train,yr_train)\n",
    "model_ada_pred=model_ada_fit.predict(xr_test)\n",
    "\n",
    "# Measuring accuracy on Testing Data\n",
    "print(metrics.classification_report(yr_test, model_ada_pred))\n",
    "print(metrics.confusion_matrix(yr_test, model_ada_pred))\n",
    "\n",
    "# Printing the Overall Accuracy of the model\n",
    "F1_Score=metrics.f1_score(yr_test, model_ada_pred, average='weighted')\n",
    "print('Accuracy of the model on Testing Sample Data:', round(F1_Score,2))"
   ]
  },
  {
   "cell_type": "markdown",
   "id": "9d5202c0-ae39-45fa-a3ef-43741e586dec",
   "metadata": {},
   "source": [
    "#### XGB Classifier"
   ]
  },
  {
   "cell_type": "code",
   "execution_count": 72,
   "id": "568d90a7-67b4-4ee0-82f2-96ac2fc25151",
   "metadata": {},
   "outputs": [
    {
     "name": "stdout",
     "output_type": "stream",
     "text": [
      "              precision    recall  f1-score   support\n",
      "\n",
      "         0.0       0.94      1.00      0.97     15110\n",
      "         1.0       0.92      0.31      0.47      1333\n",
      "\n",
      "    accuracy                           0.94     16443\n",
      "   macro avg       0.93      0.66      0.72     16443\n",
      "weighted avg       0.94      0.94      0.93     16443\n",
      "\n",
      "[[15075    35]\n",
      " [  914   419]]\n",
      "Accuracy of the model on Testing Sample Data: 0.93\n"
     ]
    }
   ],
   "source": [
    "model_xgb = XGBClassifier(max_depth=10, learning_rate=0.01, n_estimators=200, objective='binary:logistic', booster='gbtree')\n",
    "\n",
    "# Creating the model on Training Data\n",
    "model_xgb_fit=model_xgb.fit(xr_train,yr_train)\n",
    "model_xgb_pred=model_xgb_fit.predict(xr_test)\n",
    "\n",
    "# Measuring accuracy on Testing Data\n",
    "print(metrics.classification_report(yr_test, model_xgb_pred))\n",
    "print(metrics.confusion_matrix(yr_test, model_xgb_pred))\n",
    "\n",
    "# Printing the Overall Accuracy of the model\n",
    "F1_Score=metrics.f1_score(yr_test, model_xgb_pred, average='weighted')\n",
    "print('Accuracy of the model on Testing Sample Data:', round(F1_Score,2))"
   ]
  },
  {
   "cell_type": "code",
   "execution_count": 80,
   "id": "ee580fd5-50cd-44a4-a3c3-b5e6028fe80b",
   "metadata": {},
   "outputs": [
    {
     "name": "stdout",
     "output_type": "stream",
     "text": [
      "Whether the Employee should get a Promotion : 1-> Promotion, and 0-> No Promotion : [1]\n"
     ]
    }
   ],
   "source": [
    "prediction = model_xgb.predict(np.array([[7, #department\n",
    "                                      1, #education\n",
    "                                      0, #gender\n",
    "                                      1, #1 length of training\n",
    "                                      24, # age\n",
    "                                      3, #previous year rating\n",
    "                                      1, #length of service\n",
    "                                      0, #awards won\n",
    "                                      77, #avg training score\n",
    "                                      \n",
    "                                     ]]))\n",
    "print(\"Whether the Employee should get a Promotion : 1-> Promotion, and 0-> No Promotion :\", prediction)"
   ]
  },
  {
   "cell_type": "code",
   "execution_count": null,
   "id": "fe2593d4-bd16-49ba-bccd-cbd9bd902c63",
   "metadata": {},
   "outputs": [],
   "source": []
  },
  {
   "cell_type": "code",
   "execution_count": null,
   "id": "11760be9-e5c8-4aff-8d3b-3edf40562b95",
   "metadata": {},
   "outputs": [],
   "source": []
  }
 ],
 "metadata": {
  "kernelspec": {
   "display_name": "Python 3 (ipykernel)",
   "language": "python",
   "name": "python3"
  },
  "language_info": {
   "codemirror_mode": {
    "name": "ipython",
    "version": 3
   },
   "file_extension": ".py",
   "mimetype": "text/x-python",
   "name": "python",
   "nbconvert_exporter": "python",
   "pygments_lexer": "ipython3",
   "version": "3.9.12"
  }
 },
 "nbformat": 4,
 "nbformat_minor": 5
}
